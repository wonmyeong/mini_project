{
 "cells": [
  {
   "cell_type": "code",
   "execution_count": 5,
   "metadata": {},
   "outputs": [],
   "source": [
    "import csv\n",
    "import pandas as pd\n",
    "#CSV 파일 경로\n",
    "\n",
    "file_path = 'df_csv\\musinsa_men.csv'\n",
    "\n",
    "men_df = pd.read_csv(file_path)"
   ]
  },
  {
   "cell_type": "code",
   "execution_count": 8,
   "metadata": {},
   "outputs": [
    {
     "data": {
      "text/html": [
       "<div>\n",
       "<style scoped>\n",
       "    .dataframe tbody tr th:only-of-type {\n",
       "        vertical-align: middle;\n",
       "    }\n",
       "\n",
       "    .dataframe tbody tr th {\n",
       "        vertical-align: top;\n",
       "    }\n",
       "\n",
       "    .dataframe thead th {\n",
       "        text-align: right;\n",
       "    }\n",
       "</style>\n",
       "<table border=\"1\" class=\"dataframe\">\n",
       "  <thead>\n",
       "    <tr style=\"text-align: right;\">\n",
       "      <th></th>\n",
       "      <th>상품명</th>\n",
       "      <th>할인전 가격</th>\n",
       "      <th>할인후 가격</th>\n",
       "      <th>할인율(%)</th>\n",
       "    </tr>\n",
       "  </thead>\n",
       "  <tbody>\n",
       "    <tr>\n",
       "      <th>0</th>\n",
       "      <td>3/19배송[ONLYOUTLET]시그니처라운드니트(10COLOR)</td>\n",
       "      <td>65900</td>\n",
       "      <td>19400</td>\n",
       "      <td>71</td>\n",
       "    </tr>\n",
       "    <tr>\n",
       "      <th>1</th>\n",
       "      <td>소프트필링세미오버라운드니트초코브라운</td>\n",
       "      <td>59000</td>\n",
       "      <td>33000</td>\n",
       "      <td>45</td>\n",
       "    </tr>\n",
       "    <tr>\n",
       "      <th>2</th>\n",
       "      <td>3/28배송BRANCHLOGOKNIT-KHAKI</td>\n",
       "      <td>79000</td>\n",
       "      <td>55300</td>\n",
       "      <td>30</td>\n",
       "    </tr>\n",
       "    <tr>\n",
       "      <th>3</th>\n",
       "      <td>오버핏하찌니트-8COLOR[ONEORTWO]</td>\n",
       "      <td>129500</td>\n",
       "      <td>19800</td>\n",
       "      <td>85</td>\n",
       "    </tr>\n",
       "    <tr>\n",
       "      <th>4</th>\n",
       "      <td>3/22배송꽈배기후드반집업니트_Gray</td>\n",
       "      <td>139900</td>\n",
       "      <td>39900</td>\n",
       "      <td>72</td>\n",
       "    </tr>\n",
       "  </tbody>\n",
       "</table>\n",
       "</div>"
      ],
      "text/plain": [
       "                                    상품명  할인전 가격  할인후 가격  할인율(%)\n",
       "0  3/19배송[ONLYOUTLET]시그니처라운드니트(10COLOR)   65900   19400      71\n",
       "1                   소프트필링세미오버라운드니트초코브라운   59000   33000      45\n",
       "2            3/28배송BRANCHLOGOKNIT-KHAKI   79000   55300      30\n",
       "3              오버핏하찌니트-8COLOR[ONEORTWO]  129500   19800      85\n",
       "4                 3/22배송꽈배기후드반집업니트_Gray  139900   39900      72"
      ]
     },
     "execution_count": 8,
     "metadata": {},
     "output_type": "execute_result"
    }
   ],
   "source": [
    "men_df[:5]"
   ]
  },
  {
   "cell_type": "code",
   "execution_count": 12,
   "metadata": {},
   "outputs": [],
   "source": [
    "### 30개 상품에 대한 평균가격\n",
    "product_men_avg_price = men_df[\"할인후 가격\"].mean()"
   ]
  },
  {
   "cell_type": "code",
   "execution_count": null,
   "metadata": {},
   "outputs": [],
   "source": []
  }
 ],
 "metadata": {
  "kernelspec": {
   "display_name": "Python 3",
   "language": "python",
   "name": "python3"
  },
  "language_info": {
   "codemirror_mode": {
    "name": "ipython",
    "version": 3
   },
   "file_extension": ".py",
   "mimetype": "text/x-python",
   "name": "python",
   "nbconvert_exporter": "python",
   "pygments_lexer": "ipython3",
   "version": "3.11.8"
  }
 },
 "nbformat": 4,
 "nbformat_minor": 2
}
