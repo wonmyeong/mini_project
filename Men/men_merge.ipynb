{
 "cells": [
  {
   "cell_type": "code",
   "execution_count": 1,
   "metadata": {},
   "outputs": [
    {
     "name": "stderr",
     "output_type": "stream",
     "text": [
      "C:\\Users\\wmk51\\AppData\\Local\\Temp\\ipykernel_18920\\4080736814.py:1: DeprecationWarning: \n",
      "Pyarrow will become a required dependency of pandas in the next major release of pandas (pandas 3.0),\n",
      "(to allow more performant data types, such as the Arrow string type, and better interoperability with other libraries)\n",
      "but was not found to be installed on your system.\n",
      "If this would cause problems for you,\n",
      "please provide us feedback at https://github.com/pandas-dev/pandas/issues/54466\n",
      "        \n",
      "  import pandas as pd\n"
     ]
    }
   ],
   "source": [
    "import pandas as pd"
   ]
  },
  {
   "cell_type": "code",
   "execution_count": 2,
   "metadata": {},
   "outputs": [],
   "source": [
    "df_men_rating = pd.read_csv(\"men_rating.csv\")"
   ]
  },
  {
   "cell_type": "code",
   "execution_count": 3,
   "metadata": {},
   "outputs": [
    {
     "data": {
      "text/html": [
       "<div>\n",
       "<style scoped>\n",
       "    .dataframe tbody tr th:only-of-type {\n",
       "        vertical-align: middle;\n",
       "    }\n",
       "\n",
       "    .dataframe tbody tr th {\n",
       "        vertical-align: top;\n",
       "    }\n",
       "\n",
       "    .dataframe thead th {\n",
       "        text-align: right;\n",
       "    }\n",
       "</style>\n",
       "<table border=\"1\" class=\"dataframe\">\n",
       "  <thead>\n",
       "    <tr style=\"text-align: right;\">\n",
       "      <th></th>\n",
       "      <th>Item</th>\n",
       "      <th>평점</th>\n",
       "    </tr>\n",
       "  </thead>\n",
       "  <tbody>\n",
       "    <tr>\n",
       "      <th>0</th>\n",
       "      <td>시그니처 라운드 니트 (10 COLOR)</td>\n",
       "      <td>98.2</td>\n",
       "    </tr>\n",
       "    <tr>\n",
       "      <th>1</th>\n",
       "      <td>소프트 필링 세미오버 라운드 니트 초코브라운</td>\n",
       "      <td>96.2</td>\n",
       "    </tr>\n",
       "    <tr>\n",
       "      <th>2</th>\n",
       "      <td>꽈배기 후드 반집업 니트_Gray</td>\n",
       "      <td>96.5</td>\n",
       "    </tr>\n",
       "  </tbody>\n",
       "</table>\n",
       "</div>"
      ],
      "text/plain": [
       "                       Item    평점\n",
       "0    시그니처 라운드 니트 (10 COLOR)  98.2\n",
       "1  소프트 필링 세미오버 라운드 니트 초코브라운  96.2\n",
       "2        꽈배기 후드 반집업 니트_Gray  96.5"
      ]
     },
     "execution_count": 3,
     "metadata": {},
     "output_type": "execute_result"
    }
   ],
   "source": [
    "df_men_rating[:3]"
   ]
  },
  {
   "cell_type": "code",
   "execution_count": 4,
   "metadata": {},
   "outputs": [],
   "source": [
    "df_men_price = pd.read_csv(\"musinsa_men_price.csv\")"
   ]
  },
  {
   "cell_type": "code",
   "execution_count": null,
   "metadata": {},
   "outputs": [],
   "source": [
    "df_men_price"
   ]
  },
  {
   "cell_type": "code",
   "execution_count": 6,
   "metadata": {},
   "outputs": [],
   "source": [
    "final_men_df = pd.merge(df_men_price, df_men_rating, how='outer', left_index=True, right_index=True)"
   ]
  },
  {
   "cell_type": "code",
   "execution_count": 11,
   "metadata": {},
   "outputs": [],
   "source": [
    "final_men_df[\"평점\"] = final_men_df[\"평점\"].round(1)\n",
    "final_men_df=final_men_df.drop(columns=['Item'])"
   ]
  },
  {
   "cell_type": "code",
   "execution_count": 12,
   "metadata": {},
   "outputs": [
    {
     "data": {
      "text/html": [
       "<div>\n",
       "<style scoped>\n",
       "    .dataframe tbody tr th:only-of-type {\n",
       "        vertical-align: middle;\n",
       "    }\n",
       "\n",
       "    .dataframe tbody tr th {\n",
       "        vertical-align: top;\n",
       "    }\n",
       "\n",
       "    .dataframe thead th {\n",
       "        text-align: right;\n",
       "    }\n",
       "</style>\n",
       "<table border=\"1\" class=\"dataframe\">\n",
       "  <thead>\n",
       "    <tr style=\"text-align: right;\">\n",
       "      <th></th>\n",
       "      <th>브랜드명</th>\n",
       "      <th>상품명</th>\n",
       "      <th>할인전 가격</th>\n",
       "      <th>할인후 가격</th>\n",
       "      <th>할인율(%)</th>\n",
       "      <th>reasonable_choice</th>\n",
       "      <th>평점</th>\n",
       "    </tr>\n",
       "  </thead>\n",
       "  <tbody>\n",
       "    <tr>\n",
       "      <th>0</th>\n",
       "      <td>데이</td>\n",
       "      <td>3/19배송[ONLYOUTLET]시그니처라운드니트(10COLOR)</td>\n",
       "      <td>65900</td>\n",
       "      <td>19400</td>\n",
       "      <td>71</td>\n",
       "      <td>True</td>\n",
       "      <td>98.2</td>\n",
       "    </tr>\n",
       "    <tr>\n",
       "      <th>1</th>\n",
       "      <td>미니멀코드</td>\n",
       "      <td>소프트필링세미오버라운드니트초코브라운</td>\n",
       "      <td>59000</td>\n",
       "      <td>33000</td>\n",
       "      <td>45</td>\n",
       "      <td>True</td>\n",
       "      <td>96.2</td>\n",
       "    </tr>\n",
       "    <tr>\n",
       "      <th>2</th>\n",
       "      <td>맨인스토어</td>\n",
       "      <td>3/22배송꽈배기후드반집업니트_Gray</td>\n",
       "      <td>139900</td>\n",
       "      <td>39900</td>\n",
       "      <td>72</td>\n",
       "      <td>True</td>\n",
       "      <td>96.5</td>\n",
       "    </tr>\n",
       "    <tr>\n",
       "      <th>3</th>\n",
       "      <td>언리미트</td>\n",
       "      <td>소프트니트(U23DTNT161)</td>\n",
       "      <td>69000</td>\n",
       "      <td>16900</td>\n",
       "      <td>76</td>\n",
       "      <td>True</td>\n",
       "      <td>100.0</td>\n",
       "    </tr>\n",
       "    <tr>\n",
       "      <th>4</th>\n",
       "      <td>키뮤어</td>\n",
       "      <td>[2-PACK](하프집업+크루넥선택)코튼워셔블하찌니트</td>\n",
       "      <td>128000</td>\n",
       "      <td>43500</td>\n",
       "      <td>67</td>\n",
       "      <td>True</td>\n",
       "      <td>96.4</td>\n",
       "    </tr>\n",
       "  </tbody>\n",
       "</table>\n",
       "</div>"
      ],
      "text/plain": [
       "    브랜드명                                   상품명  할인전 가격  할인후 가격  할인율(%)  \\\n",
       "0     데이  3/19배송[ONLYOUTLET]시그니처라운드니트(10COLOR)   65900   19400      71   \n",
       "1  미니멀코드                   소프트필링세미오버라운드니트초코브라운   59000   33000      45   \n",
       "2  맨인스토어                 3/22배송꽈배기후드반집업니트_Gray  139900   39900      72   \n",
       "3   언리미트                     소프트니트(U23DTNT161)   69000   16900      76   \n",
       "4    키뮤어         [2-PACK](하프집업+크루넥선택)코튼워셔블하찌니트  128000   43500      67   \n",
       "\n",
       "   reasonable_choice     평점  \n",
       "0               True   98.2  \n",
       "1               True   96.2  \n",
       "2               True   96.5  \n",
       "3               True  100.0  \n",
       "4               True   96.4  "
      ]
     },
     "execution_count": 12,
     "metadata": {},
     "output_type": "execute_result"
    }
   ],
   "source": [
    "final_men_df[:5]"
   ]
  },
  {
   "cell_type": "code",
   "execution_count": null,
   "metadata": {},
   "outputs": [],
   "source": [
    "####평점 평균을 활용한 한 달간 평점 구하기"
   ]
  },
  {
   "cell_type": "code",
   "execution_count": null,
   "metadata": {},
   "outputs": [],
   "source": [
    "avg_rating = men_price_df['할인율(%)'].mean()\n",
    "discount_ratio_list = men_price_df['할인율(%)']"
   ]
  },
  {
   "cell_type": "code",
   "execution_count": null,
   "metadata": {},
   "outputs": [],
   "source": [
    "discount_ratio_boolean_list = []\n",
    "\n",
    "for ratio in discount_ratio_list:\n",
    "    #\n",
    "    if(ratio > avg_rating):\n",
    "        discount_ratio_boolean_list.append(True)\n",
    "    else:\n",
    "        discount_ratio_boolean_list.append(False)\n",
    "   \n",
    "men_price_df[\"super_discount\"] = discount_ratio_boolean_list\n",
    "men_price_df.to_csv(\"real_final_musinsa_men.csv\",index=False,encoding='utf-8-sig')   "
   ]
  }
 ],
 "metadata": {
  "kernelspec": {
   "display_name": "Python 3",
   "language": "python",
   "name": "python3"
  },
  "language_info": {
   "codemirror_mode": {
    "name": "ipython",
    "version": 3
   },
   "file_extension": ".py",
   "mimetype": "text/x-python",
   "name": "python",
   "nbconvert_exporter": "python",
   "pygments_lexer": "ipython3",
   "version": "3.11.8"
  }
 },
 "nbformat": 4,
 "nbformat_minor": 2
}
