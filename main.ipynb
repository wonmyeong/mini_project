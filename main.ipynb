{
 "cells": [
  {
   "cell_type": "code",
   "execution_count": 23,
   "metadata": {},
   "outputs": [],
   "source": [
    "from selenium import webdriver\n",
    "from bs4 import BeautifulSoup\n",
    "from selenium.webdriver.common.keys import Keys\n",
    "from selenium.webdriver.support.wait import WebDriverWait\n",
    "from selenium.webdriver.support import expected_conditions as EC\n",
    "from selenium.webdriver.common.by import By\n",
    "from selenium.webdriver.support.ui import WebDriverWait\n",
    "from selenium.webdriver.chrome.options import Options\n",
    "from selenium.webdriver.common.action_chains import ActionChains\n",
    "from selenium.webdriver.chrome.service import Service\n",
    "import re\n"
   ]
  },
  {
   "cell_type": "code",
   "execution_count": 2,
   "metadata": {},
   "outputs": [],
   "source": [
    "chrome_path = \"C:\\\\Users\\\\wmk51\\\\python-project\\\\chromedriver.exe\"\n",
    "options = webdriver.ChromeOptions()\n",
    "user_agent = \"Mozilla/5.0 (Windows NT 10.0; Win64; x64) AppleWebKit/537.36 (KHTML, like Gecko) Chrome/107.0.0.0 Safari/537.36\"\n",
    "options.add_argument(\"no-sandbox\")\n",
    "options.add_argument(\"disable-gpu\")\n",
    "options.add_argument(\"--lang=ko_KR\")\n",
    "options.add_argument('user-agent=' + user_agent)\n",
    "driver = webdriver.Chrome(options=options)\n",
    "url = \"https://www.musinsa.com/search/musinsa/goods?q=%EB%8B%88%ED%8A%B8&list_kind=small&sortCode=pop&sub_sort=&page=1&display_cnt=0&saleGoods=&includeSoldOut=&setupGoods=&popular=&category1DepthCode=&category2DepthCodes=&category3DepthCodes=&selectedFilters=&category1DepthName=&category2DepthName=&brandIds=&price=&colorCodes=&contentType=&styleTypes=&includeKeywords=&excludeKeywords=&originalYn=N&tags=&campaignId=&serviceType=&eventType=&type=&season=&measure=&openFilterLayout=N&selectedOrderMeasure=&shoeSizeOption=&d_cat_cd=&attribute=&plusDeliveryYn=\"\n",
    "driver.get(url)\n",
    "driver.set_window_size(1920,1080)\n",
    "driver.maximize_window()"
   ]
  },
  {
   "cell_type": "code",
   "execution_count": 4,
   "metadata": {},
   "outputs": [],
   "source": [
    "html = driver.page_source\n",
    "soup = BeautifulSoup(html,\"html.parser\")"
   ]
  },
  {
   "cell_type": "code",
   "execution_count": 32,
   "metadata": {},
   "outputs": [
    {
     "name": "stdout",
     "output_type": "stream",
     "text": [
      "[ONLY OUTLET] 시그니처 라운드 니트 (10 COLOR)\n",
      "할인 전 :  65900\n",
      "할인 후 :  19400\n",
      "소프트 필링 세미오버 라운드 니트 초코브라운\n",
      "할인 전 :  59000\n",
      "할인 후 :  33000\n",
      "오버핏 하찌 니트 - 8 COLOR [ONE OR TWO]\n",
      "할인 전 :  129500\n",
      "할인 후 :  19800\n",
      "[ONLY OUTLET] ONLY ONE 하찌 니트 (9 COLOR)\n",
      "할인 전 :  49900\n",
      "할인 후 :  19900\n",
      "크루넥 리브 니트 스웨터_블랙\n",
      "할인 전 :  65600\n",
      "할인 후 :  29800\n"
     ]
    }
   ],
   "source": [
    "# 예시를 위해서 5 개의 상품을 먼저 가져온다 \n",
    "items = soup.find_all(\"div\",attrs={\"class\" : \"li_inner\"})[:5]\n",
    "\n",
    "for item in items:\n",
    "    \n",
    "    #상품명 가져오기\n",
    "    item_name = item.find(\"p\",attrs={\"class\" : \"list_info\"}).find(\"a\").get_text().strip()\n",
    "    print(item_name)\n",
    "    \n",
    "    #할인 전 가격과 할인 후 가격 가져오기\n",
    "    #할인을 하지 않은 상품도 있으니 <del>을 이용해서 나눠준다.\n",
    "    \n",
    "    #할인 전 가격\n",
    "    \n",
    "    price_before_discount = item.find(\"p\",attrs={\"class\" : \"price\"}).find(\"del\").get_text()\n",
    "    price_before_discount = int(re.sub(r'[^0-9]', '', price_before_discount))\n",
    "    print(\"할인 전 : \", price_before_discount)\n",
    "    \n",
    "    #할인 후 가격\n",
    "    \n",
    "    price_after_discount = item.find(\"p\",attrs={\"class\" : \"price\"}).get_text().strip().split(' ')[1]\n",
    "    price_after_discount = int(re.sub(r'[^0-9]', '', price_after_discount))\n",
    "    print(\"할인 후 : \", price_after_discount)"
   ]
  },
  {
   "cell_type": "code",
   "execution_count": 16,
   "metadata": {},
   "outputs": [],
   "source": [
    "item = soup.find(\"div\",attrs={\"class\" : \"li_inner\"})"
   ]
  },
  {
   "cell_type": "code",
   "execution_count": 25,
   "metadata": {},
   "outputs": [
    {
     "data": {
      "text/plain": [
       "65900"
      ]
     },
     "execution_count": 25,
     "metadata": {},
     "output_type": "execute_result"
    }
   ],
   "source": [
    "price_before_discount=item.find(\"p\",attrs={\"class\" : \"price\"}).find(\"del\").get_text()\n",
    "price_before_discount = int(re.sub(r'[^0-9]', '', price_before_discount))\n",
    "price_before_discount"
   ]
  },
  {
   "cell_type": "code",
   "execution_count": 30,
   "metadata": {},
   "outputs": [
    {
     "name": "stdout",
     "output_type": "stream",
     "text": [
      "19400\n"
     ]
    }
   ],
   "source": [
    "price_after_discount = item.find(\"p\",attrs={\"class\" : \"price\"}).get_text().strip().split(' ')[1]\n",
    "price_after_discount = int(re.sub(r'[^0-9]', '', price_after_discount))\n",
    "print(price_after_discount)\n"
   ]
  },
  {
   "cell_type": "code",
   "execution_count": null,
   "metadata": {},
   "outputs": [],
   "source": []
  }
 ],
 "metadata": {
  "kernelspec": {
   "display_name": "Python 3",
   "language": "python",
   "name": "python3"
  },
  "language_info": {
   "codemirror_mode": {
    "name": "ipython",
    "version": 3
   },
   "file_extension": ".py",
   "mimetype": "text/x-python",
   "name": "python",
   "nbconvert_exporter": "python",
   "pygments_lexer": "ipython3",
   "version": "3.11.8"
  }
 },
 "nbformat": 4,
 "nbformat_minor": 2
}
