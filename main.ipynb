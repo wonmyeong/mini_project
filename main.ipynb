{
 "cells": [
  {
   "cell_type": "code",
   "execution_count": 29,
   "metadata": {},
   "outputs": [],
   "source": [
    "from selenium import webdriver\n",
    "from bs4 import BeautifulSoup\n",
    "from selenium.webdriver.common.keys import Keys\n",
    "from selenium.webdriver.support.wait import WebDriverWait\n",
    "from selenium.webdriver.support import expected_conditions as EC\n",
    "from selenium.webdriver.common.by import By\n",
    "from selenium.webdriver.support.ui import WebDriverWait\n",
    "from selenium.webdriver.chrome.options import Options\n",
    "from selenium.webdriver.common.action_chains import ActionChains\n",
    "from selenium.webdriver.chrome.service import Service\n",
    "import re\n",
    "import time\n",
    "import sys"
   ]
  },
  {
   "cell_type": "code",
   "execution_count": 30,
   "metadata": {},
   "outputs": [],
   "source": [
    "chrome_path = \"C:\\\\Users\\\\wmk51\\\\python-project\\\\chromedriver.exe\"\n",
    "options = webdriver.ChromeOptions()\n",
    "user_agent = \"Mozilla/5.0 (Windows NT 10.0; Win64; x64) AppleWebKit/537.36 (KHTML, like Gecko) Chrome/107.0.0.0 Safari/537.36\"\n",
    "options.add_argument(\"no-sandbox\")\n",
    "options.add_argument(\"disable-gpu\")\n",
    "options.add_argument(\"--lang=ko_KR\")\n",
    "options.add_argument('user-agent=' + user_agent)\n",
    "driver = webdriver.Chrome(options=options)\n",
    "url = \"https://www.musinsa.com/search/musinsa/goods?q=%EB%8B%88%ED%8A%B8&list_kind=small&sortCode=pop&sub_sort=&page=1&display_cnt=0&saleGoods=&includeSoldOut=&setupGoods=&popular=&category1DepthCode=&category2DepthCodes=&category3DepthCodes=&selectedFilters=&category1DepthName=&category2DepthName=&brandIds=&price=&colorCodes=&contentType=&styleTypes=&includeKeywords=&excludeKeywords=&originalYn=N&tags=&campaignId=&serviceType=&eventType=&type=&season=&measure=&openFilterLayout=N&selectedOrderMeasure=&shoeSizeOption=&d_cat_cd=&attribute=&plusDeliveryYn=\"\n",
    "driver.get(url)\n",
    "driver.set_window_size(1920,1080)\n",
    "driver.maximize_window()"
   ]
  },
  {
   "cell_type": "code",
   "execution_count": 32,
   "metadata": {},
   "outputs": [],
   "source": [
    "WebDriverWait(driver, 8).until(EC.element_to_be_clickable((By.CLASS_NAME, \"lcWnUT\"))).click()\n",
    "# WebDriverWait(driver, 8).until(EC.element_to_be_clickable((By.CLASS_NAME, \"lcWnUT\"))).click()##여성 버튼\n",
    "time.sleep(2)\n",
    "html = driver.page_source\n",
    "soup = BeautifulSoup(html,\"html.parser\")"
   ]
  },
  {
   "cell_type": "markdown",
   "metadata": {},
   "source": [
    "###url 가져오기"
   ]
  },
  {
   "cell_type": "code",
   "execution_count": 39,
   "metadata": {},
   "outputs": [],
   "source": [
    "from selenium import webdriver\n",
    "from bs4 import BeautifulSoup\n",
    "from selenium.webdriver.common.keys import Keys\n",
    "from selenium.webdriver.support.wait import WebDriverWait\n",
    "from selenium.webdriver.support import expected_conditions as EC\n",
    "from selenium.webdriver.common.by import By\n",
    "from selenium.webdriver.support.ui import WebDriverWait\n",
    "from selenium.webdriver.chrome.options import Options\n",
    "from selenium.webdriver.common.action_chains import ActionChains\n",
    "from selenium.webdriver.chrome.service import Service\n",
    "import re\n",
    "import time"
   ]
  },
  {
   "cell_type": "code",
   "execution_count": 40,
   "metadata": {},
   "outputs": [],
   "source": [
    "chrome_path = \"C:\\\\Users\\\\wmk51\\\\python-project\\\\chromedriver.exe\"\n",
    "options = webdriver.ChromeOptions()\n",
    "user_agent = \"Mozilla/5.0 (Windows NT 10.0; Win64; x64) AppleWebKit/537.36 (KHTML, like Gecko) Chrome/107.0.0.0 Safari/537.36\"\n",
    "options.add_argument(\"no-sandbox\")\n",
    "options.add_argument(\"disable-gpu\")\n",
    "options.add_argument(\"--lang=ko_KR\")\n",
    "options.add_argument('user-agent=' + user_agent)\n",
    "driver = webdriver.Chrome(options=options)\n",
    "url = \"https://www.musinsa.com/search/musinsa/goods?q=%EB%8B%88%ED%8A%B8&list_kind=small&sortCode=pop&sub_sort=&page=1&display_cnt=0&saleGoods=&includeSoldOut=&setupGoods=&popular=&category1DepthCode=&category2DepthCodes=&category3DepthCodes=&selectedFilters=&category1DepthName=&category2DepthName=&brandIds=&price=&colorCodes=&contentType=&styleTypes=&includeKeywords=&excludeKeywords=&originalYn=N&tags=&campaignId=&serviceType=&eventType=&type=&season=&measure=&openFilterLayout=N&selectedOrderMeasure=&shoeSizeOption=&d_cat_cd=&attribute=&plusDeliveryYn=\"\n",
    "driver.get(url)\n",
    "driver.set_window_size(1920,1080)\n",
    "driver.maximize_window()\n",
    "WebDriverWait(driver, 8).until(EC.element_to_be_clickable((By.CLASS_NAME, \"lcWnUT\"))).click()\n",
    "time.sleep(1)"
   ]
  },
  {
   "cell_type": "code",
   "execution_count": 41,
   "metadata": {},
   "outputs": [],
   "source": [
    "html_url = driver.page_source\n",
    "soup_url = BeautifulSoup(html,\"html.parser\")\n",
    "time.sleep(1)\n",
    "product_url_list=[]\n",
    "url_list = soup_url.find_all(\"a\" , attrs={\"class\" : \"img-block\"})[:10]\n",
    "\n",
    "for item in  url_list:\n",
    "    product_url_list.append(item[\"href\"])"
   ]
  },
  {
   "cell_type": "code",
   "execution_count": 42,
   "metadata": {},
   "outputs": [],
   "source": [
    "product_url = product_url_list[0]\n",
    "driver.get(product_url)\n",
    "driver.set_window_size(1920,1080)\n",
    "driver.maximize_window()\n",
    "    \n",
    "    \n",
    "##최신 순으로 댓글 정렬    \n",
    "html_url = driver.page_source\n",
    "soup_url = BeautifulSoup(html_url,\"html.parser\")\n",
    "time.sleep(2)\n",
    "WebDriverWait(driver, 20).until(EC.element_to_be_clickable((By.ID, \"reviewSelectSort\"))).click()\n",
    "WebDriverWait(driver, 10).until(\n",
    "    EC.element_to_be_clickable((By.XPATH, '//option[@value=\"new\"]'))\n",
    ").click()"
   ]
  },
  {
   "cell_type": "code",
   "execution_count": 43,
   "metadata": {},
   "outputs": [],
   "source": [
    "\n",
    "html_product = driver.page_source\n",
    "soup_product = BeautifulSoup(html_product,\"html.parser\")\n",
    "time.sleep(1)\n"
   ]
  },
  {
   "cell_type": "code",
   "execution_count": 44,
   "metadata": {},
   "outputs": [],
   "source": [
    "#상품 이름\n",
    "prod_name = soup_product.find(\"h3\",attrs={\"class\":\"product-detail__sc-1klhlce-3\"}).get_text()\n",
    "prod_name\n",
    "a = True\n",
    "i=0\n",
    "date_list=[]\n",
    "rating_list=[]\n",
    "reviewer_id_list = []\n",
    "tag_list = []\n",
    "\n",
    "while a:\n",
    "    \n",
    "    i+=1\n",
    "    if( i % 5 == 0):\n",
    "        WebDriverWait(driver, 5).until(EC.element_to_be_clickable((By.CSS_SELECTOR, \".fa.fa-angle-right.paging-btn.btn.next\"))).click()\n",
    "        time.sleep(2)\n",
    "        \n",
    "    else:\n",
    "        WebDriverWait(driver, 15).until(\n",
    "        EC.element_to_be_clickable((By.XPATH, f'//a[text()={i}]'))).click()\n",
    "        time.sleep(2)\n",
    "    \n",
    "    \n",
    "    html_product = driver.page_source\n",
    "    soup_product = BeautifulSoup(html_product,\"html.parser\")\n",
    "    \n",
    "    #작성일 가져오기\n",
    "    #break문을 사용해서 확실히 끊어야 한다.\n",
    "    \n",
    "    dates = list(soup_product.find_all(\"p\", attrs={\"class\":\"review-profile__date\"}))\n",
    "\n",
    "    \n",
    "    for date in dates:\n",
    "        date = date.get_text()\n",
    "        if '.' in date:\n",
    "            a = False\n",
    "            break\n",
    "        date_list.append(date)\n",
    "    \n",
    "    \n",
    "    \n",
    "    ### 별점 가져오기\n",
    "    # 5개는 100, 4개는 80, 3개는 60, 2개는 40, 1개는 20\n",
    "    stars = soup_product.find_all(\"span\", attrs={\"class\":\"review-list__rating__active\"})\n",
    "\n",
    "    for star in stars:\n",
    "        rating_list.append(re.sub(r'\\D', '', star['style']))    \n",
    "            \n",
    "\n",
    "    \n",
    "    ### 작성자 가져오기\n",
    "    \n",
    "    \n",
    "    reviewers= soup_product.find_all(\"p\",attrs={\"class\" : \"review-profile__name\"})\n",
    "    \n",
    "    for reviewer in reviewers:\n",
    "        reviewer_id_list.append(reviewer.get_text())\n",
    "        \n",
    "        \n",
    "        \n",
    "    ##  소비자 해시태그 가져오기\n",
    "    \n",
    "    tags = soup_product.find_all(\"li\",attrs={\"class\" : \"review-evaluation--type3__item\"})\n",
    "    my_dict={}\n",
    "    for tag in tags:\n",
    "        \n",
    "        my_dict={\n",
    "            tag.get_text().split(\" \")[0]:tag.get_text().split(\" \")[1]\n",
    "            \n",
    "        }\n",
    "        # 기간 내에 있는 모든 테그들을 담은 리스트\n",
    "        tag_list.append(my_dict)    \n",
    "    \n",
    "    \n",
    "\n",
    "    "
   ]
  },
  {
   "cell_type": "code",
   "execution_count": 194,
   "metadata": {},
   "outputs": [],
   "source": [
    "product_url = product_url_list[0]\n",
    "driver.get(product_url)\n",
    "driver.set_window_size(1920,1080)\n",
    "driver.maximize_window()\n",
    "    \n",
    "    \n",
    "##최신 순으로 댓글 정렬    \n",
    "html_url = driver.page_source\n",
    "soup_url = BeautifulSoup(html_url,\"html.parser\")\n",
    "time.sleep(2)\n",
    "WebDriverWait(driver, 20).until(EC.element_to_be_clickable((By.ID, \"reviewSelectSort\"))).click()\n",
    "time.sleep(1)\n",
    "WebDriverWait(driver, 10).until(EC.element_to_be_clickable((By.XPATH, '//option[@value=\"new\"]'))).click()\n"
   ]
  },
  {
   "cell_type": "code",
   "execution_count": 45,
   "metadata": {},
   "outputs": [
    {
     "name": "stdout",
     "output_type": "stream",
     "text": [
      "작성자 :  90\n",
      "별점 :  90\n",
      "작성일 :  90\n"
     ]
    }
   ],
   "source": [
    "reviewer_id_list = reviewer_id_list[:len(date_list)]\n",
    "rating_list = rating_list[:len(date_list)]\n",
    "\n",
    "print(\"작성자 : \",len(reviewer_id_list))\n",
    "print(\"별점 : \",len(rating_list))\n",
    "print(\"작성일 : \",len(date_list))"
   ]
  },
  {
   "cell_type": "code",
   "execution_count": 46,
   "metadata": {},
   "outputs": [],
   "source": [
    "import pandas as pd\n",
    "import numpy as np\n",
    "import matplotlib.pyplot as plt"
   ]
  },
  {
   "cell_type": "code",
   "execution_count": 47,
   "metadata": {},
   "outputs": [],
   "source": [
    "data_dict = {\n",
    "\n",
    "    \"review_id\" : reviewer_id_list,\n",
    "    \"rating\" : rating_list,\n",
    "    \"review_date\" : date_list\n",
    "}"
   ]
  },
  {
   "cell_type": "code",
   "execution_count": 49,
   "metadata": {},
   "outputs": [],
   "source": [
    "product_df = pd.DataFrame(data_dict)\n",
    "product_df.to_csv(\"example.csv\",index=False)"
   ]
  },
  {
   "cell_type": "code",
   "execution_count": null,
   "metadata": {},
   "outputs": [],
   "source": [
    "####여기서 부터는 태그 데이터  피처링"
   ]
  },
  {
   "cell_type": "code",
   "execution_count": null,
   "metadata": {},
   "outputs": [],
   "source": [
    "tag_list"
   ]
  },
  {
   "cell_type": "code",
   "execution_count": null,
   "metadata": {},
   "outputs": [],
   "source": [
    "data_dict = {\n",
    "    '사이즈': ['보통이에요', '커요', '보통이에요', '보통이에요', '보통이에요'],\n",
    "    '밝기': ['보통이에요', '보통이에요', '보통이에요', '밝아요'],\n",
    "    '색감': ['선명해요', '선명해요', '보통이에요', '선명해요'],\n",
    "    '두께감': ['보통이에요', '얇아요', '보통이에요', '보통이에요'],\n",
    "    '촉감': ['부드러워요', '부드러워요', '평범해요'],\n",
    "    '배송': ['빨라요', '빨라요', '빨라요'],\n",
    "    '포장': ['꼼꼼해요', '꼼꼼해요', '꼼꼼해요']\n",
    "}\n"
   ]
  },
  {
   "cell_type": "code",
   "execution_count": 27,
   "metadata": {},
   "outputs": [
    {
     "name": "stdout",
     "output_type": "stream",
     "text": [
      "defaultdict(<function <lambda> at 0x0000023DD4495760>, {'사이즈': defaultdict(<class 'int'>, {'보통이에요': 95, '커요': 4, '작아요': 1}), '밝기': defaultdict(<class 'int'>, {'보통이에요': 80, '밝아요': 17, '어두워요': 3}), '색감': defaultdict(<class 'int'>, {'선명해요': 31, '보통이에요': 69}), '두께감': defaultdict(<class 'int'>, {'보통이에요': 87, '얇아요': 11, '두꺼워요': 2}), '촉감': defaultdict(<class 'int'>, {'부드러워요': 43, '평범해요': 57}), '배송': defaultdict(<class 'int'>, {'빨라요': 98, '아쉬워요': 2}), '포장': defaultdict(<class 'int'>, {'꼼꼼해요': 99, '아쉬워요': 1})})\n",
      "사이즈: 보통이에요 - 95번\n",
      "밝기: 보통이에요 - 80번\n",
      "색감: 보통이에요 - 69번\n",
      "두께감: 보통이에요 - 87번\n",
      "촉감: 평범해요 - 57번\n",
      "배송: 빨라요 - 98번\n",
      "포장: 꼼꼼해요 - 99번\n"
     ]
    }
   ],
   "source": [
    "from collections import defaultdict\n",
    "\n",
    "# 빈도수를 저장할 딕셔너리\n",
    "frequency = defaultdict(lambda: defaultdict(int))\n",
    "\n",
    "data = [{'사이즈': '보통이에요'}, {'밝기': '보통이에요'}, {'색감': '선명해요'}, {'두께감': '보통이에요'}, {'촉감': '부드러워요'}, {'배송': '빨라요'}, {'포장': '꼼꼼해요'}, {'사이즈': '보통이에요'}, {'밝기': '보통이에요'}, {'색감': '선명해요'}, {'두께감': '보통이에요'}, {'촉감': '부드러워요'}, {'배송': '빨라요'}, {'포장': '꼼꼼해요'}, {'사이즈': '커요'}, {'밝기': '보통이에요'}, {'색감': '선명해요'}, {'두께감': '얇아요'}, {'촉감': '부드러워요'}, {'배송': '빨라요'}, {'포장': '꼼꼼해요'}, {'사이즈': '보통이에요'}, {'밝기': '보통이에요'}, {'색감': '보통이에요'}, {'두께감': '보통이에요'}]\n",
    "\n",
    "# 각 키별로 값을 세기\n",
    "for dictionary in tag_list:\n",
    "    for key, value in dictionary.items():\n",
    "        # print(key,value)\n",
    "        # ex key가 사이즈면 해당 value값의 빈도가 올라감\n",
    "        frequency[key][value] += 1\n",
    "print(frequency)\n",
    "key_list=[]\n",
    "# 각 키별로 빈도가 가장 높은 값을 출력\n",
    "for key, values in frequency.items():\n",
    "    # print(\"key :\" ,key,\"value : \",value)\n",
    "    max_value = max(values, key=values.get)\n",
    "    #key = 사이즈 : 봉통이에요 - value[\"보통이에요\"]\n",
    "    print(f\"{key}: {max_value} - {values[max_value]}번\")\n",
    "        "
   ]
  },
  {
   "cell_type": "code",
   "execution_count": null,
   "metadata": {},
   "outputs": [],
   "source": []
  }
 ],
 "metadata": {
  "kernelspec": {
   "display_name": "Python 3",
   "language": "python",
   "name": "python3"
  },
  "language_info": {
   "codemirror_mode": {
    "name": "ipython",
    "version": 3
   },
   "file_extension": ".py",
   "mimetype": "text/x-python",
   "name": "python",
   "nbconvert_exporter": "python",
   "pygments_lexer": "ipython3",
   "version": "3.11.8"
  }
 },
 "nbformat": 4,
 "nbformat_minor": 2
}
