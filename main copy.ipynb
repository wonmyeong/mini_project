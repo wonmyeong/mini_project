{
 "cells": [
  {
   "cell_type": "markdown",
   "metadata": {},
   "source": [
    "###url 가져오기"
   ]
  },
  {
   "cell_type": "code",
   "execution_count": 3,
   "metadata": {},
   "outputs": [],
   "source": [
    "from selenium import webdriver\n",
    "from bs4 import BeautifulSoup\n",
    "from selenium.webdriver.common.keys import Keys\n",
    "from selenium.webdriver.support.wait import WebDriverWait\n",
    "from selenium.webdriver.support import expected_conditions as EC\n",
    "from selenium.webdriver.common.by import By\n",
    "from selenium.webdriver.support.ui import WebDriverWait\n",
    "from selenium.webdriver.chrome.options import Options\n",
    "from selenium.webdriver.common.action_chains import ActionChains\n",
    "from selenium.webdriver.chrome.service import Service\n",
    "import re\n",
    "import time"
   ]
  },
  {
   "cell_type": "code",
   "execution_count": 4,
   "metadata": {},
   "outputs": [],
   "source": [
    "chrome_path = \"C:\\\\Users\\\\wmk51\\\\python-project\\\\chromedriver.exe\"\n",
    "options = webdriver.ChromeOptions()\n",
    "user_agent = \"Mozilla/5.0 (Windows NT 10.0; Win64; x64) AppleWebKit/537.36 (KHTML, like Gecko) Chrome/107.0.0.0 Safari/537.36\"\n",
    "options.add_argument(\"no-sandbox\")\n",
    "options.add_argument(\"disable-gpu\")\n",
    "options.add_argument(\"--lang=ko_KR\")\n",
    "options.add_argument('user-agent=' + user_agent)\n",
    "driver = webdriver.Chrome(options=options)\n",
    "url = \"https://www.musinsa.com/search/musinsa/goods?q=%EB%8B%88%ED%8A%B8&list_kind=small&sortCode=pop&sub_sort=&page=1&display_cnt=0&saleGoods=&includeSoldOut=&setupGoods=&popular=&category1DepthCode=&category2DepthCodes=&category3DepthCodes=&selectedFilters=&category1DepthName=&category2DepthName=&brandIds=&price=&colorCodes=&contentType=&styleTypes=&includeKeywords=&excludeKeywords=&originalYn=N&tags=&campaignId=&serviceType=&eventType=&type=&season=&measure=&openFilterLayout=N&selectedOrderMeasure=&shoeSizeOption=&d_cat_cd=&attribute=&plusDeliveryYn=\"\n",
    "driver.get(url)\n",
    "driver.set_window_size(1920,1080)\n",
    "driver.maximize_window()\n",
    "WebDriverWait(driver, 8).until(EC.element_to_be_clickable((By.CLASS_NAME, \"lcWnUT\"))).click()\n",
    "time.sleep(1)"
   ]
  },
  {
   "cell_type": "code",
   "execution_count": 6,
   "metadata": {},
   "outputs": [],
   "source": [
    "html_url = driver.page_source\n",
    "soup_url = BeautifulSoup(html_url,\"html.parser\")\n",
    "time.sleep(1)\n",
    "product_url_list=[]\n",
    "url_list = soup_url.find_all(\"a\" , attrs={\"class\" : \"img-block\"})[:10]\n",
    "\n",
    "for item in  url_list:\n",
    "    product_url_list.append(item[\"href\"])"
   ]
  },
  {
   "cell_type": "code",
   "execution_count": 7,
   "metadata": {},
   "outputs": [
    {
     "ename": "TimeoutException",
     "evalue": "Message: \nStacktrace:\n\tGetHandleVerifier [0x00007FF79F994C82+3505170]\n\t(No symbol) [0x00007FF79F5C0852]\n\t(No symbol) [0x00007FF79F474145]\n\t(No symbol) [0x00007FF79F4B9ADD]\n\t(No symbol) [0x00007FF79F4B9C1C]\n\t(No symbol) [0x00007FF79F4FAB27]\n\t(No symbol) [0x00007FF79F4DBECF]\n\t(No symbol) [0x00007FF79F4F83B2]\n\t(No symbol) [0x00007FF79F4DBC33]\n\t(No symbol) [0x00007FF79F4AD618]\n\t(No symbol) [0x00007FF79F4AE6B1]\n\tGetHandleVerifier [0x00007FF79F9C67DD+3708781]\n\tGetHandleVerifier [0x00007FF79FA1FC5D+4074477]\n\tGetHandleVerifier [0x00007FF79FA17DDF+4042095]\n\tGetHandleVerifier [0x00007FF79F6EA136+708806]\n\t(No symbol) [0x00007FF79F5CCB0F]\n\t(No symbol) [0x00007FF79F5C7D14]\n\t(No symbol) [0x00007FF79F5C7E6C]\n\t(No symbol) [0x00007FF79F5B79A4]\n\tBaseThreadInitThunk [0x00007FFF67C9257D+29]\n\tRtlUserThreadStart [0x00007FFF6980AA58+40]\n",
     "output_type": "error",
     "traceback": [
      "\u001b[1;31m---------------------------------------------------------------------------\u001b[0m",
      "\u001b[1;31mTimeoutException\u001b[0m                          Traceback (most recent call last)",
      "Cell \u001b[1;32mIn[7], line 38\u001b[0m\n\u001b[0;32m     35\u001b[0m     time\u001b[38;5;241m.\u001b[39msleep(\u001b[38;5;241m2\u001b[39m)\n\u001b[0;32m     37\u001b[0m \u001b[38;5;28;01melse\u001b[39;00m:\n\u001b[1;32m---> 38\u001b[0m     \u001b[43mWebDriverWait\u001b[49m\u001b[43m(\u001b[49m\u001b[43mdriver\u001b[49m\u001b[43m,\u001b[49m\u001b[43m \u001b[49m\u001b[38;5;241;43m15\u001b[39;49m\u001b[43m)\u001b[49m\u001b[38;5;241;43m.\u001b[39;49m\u001b[43muntil\u001b[49m\u001b[43m(\u001b[49m\n\u001b[0;32m     39\u001b[0m \u001b[43m    \u001b[49m\u001b[43mEC\u001b[49m\u001b[38;5;241;43m.\u001b[39;49m\u001b[43melement_to_be_clickable\u001b[49m\u001b[43m(\u001b[49m\u001b[43m(\u001b[49m\u001b[43mBy\u001b[49m\u001b[38;5;241;43m.\u001b[39;49m\u001b[43mXPATH\u001b[49m\u001b[43m,\u001b[49m\u001b[43m \u001b[49m\u001b[38;5;124;43mf\u001b[39;49m\u001b[38;5;124;43m'\u001b[39;49m\u001b[38;5;124;43m//a[text()=\u001b[39;49m\u001b[38;5;132;43;01m{\u001b[39;49;00m\u001b[43mi\u001b[49m\u001b[38;5;132;43;01m}\u001b[39;49;00m\u001b[38;5;124;43m]\u001b[39;49m\u001b[38;5;124;43m'\u001b[39;49m\u001b[43m)\u001b[49m\u001b[43m)\u001b[49m\u001b[43m)\u001b[49m\u001b[38;5;241m.\u001b[39mclick()\n\u001b[0;32m     40\u001b[0m     time\u001b[38;5;241m.\u001b[39msleep(\u001b[38;5;241m2\u001b[39m)\n\u001b[0;32m     43\u001b[0m html_product \u001b[38;5;241m=\u001b[39m driver\u001b[38;5;241m.\u001b[39mpage_source\n",
      "File \u001b[1;32mc:\\Users\\wmk51\\AppData\\Local\\Programs\\Python\\Python311\\Lib\\site-packages\\selenium\\webdriver\\support\\wait.py:105\u001b[0m, in \u001b[0;36mWebDriverWait.until\u001b[1;34m(self, method, message)\u001b[0m\n\u001b[0;32m    103\u001b[0m     \u001b[38;5;28;01mif\u001b[39;00m time\u001b[38;5;241m.\u001b[39mmonotonic() \u001b[38;5;241m>\u001b[39m end_time:\n\u001b[0;32m    104\u001b[0m         \u001b[38;5;28;01mbreak\u001b[39;00m\n\u001b[1;32m--> 105\u001b[0m \u001b[38;5;28;01mraise\u001b[39;00m TimeoutException(message, screen, stacktrace)\n",
      "\u001b[1;31mTimeoutException\u001b[0m: Message: \nStacktrace:\n\tGetHandleVerifier [0x00007FF79F994C82+3505170]\n\t(No symbol) [0x00007FF79F5C0852]\n\t(No symbol) [0x00007FF79F474145]\n\t(No symbol) [0x00007FF79F4B9ADD]\n\t(No symbol) [0x00007FF79F4B9C1C]\n\t(No symbol) [0x00007FF79F4FAB27]\n\t(No symbol) [0x00007FF79F4DBECF]\n\t(No symbol) [0x00007FF79F4F83B2]\n\t(No symbol) [0x00007FF79F4DBC33]\n\t(No symbol) [0x00007FF79F4AD618]\n\t(No symbol) [0x00007FF79F4AE6B1]\n\tGetHandleVerifier [0x00007FF79F9C67DD+3708781]\n\tGetHandleVerifier [0x00007FF79FA1FC5D+4074477]\n\tGetHandleVerifier [0x00007FF79FA17DDF+4042095]\n\tGetHandleVerifier [0x00007FF79F6EA136+708806]\n\t(No symbol) [0x00007FF79F5CCB0F]\n\t(No symbol) [0x00007FF79F5C7D14]\n\t(No symbol) [0x00007FF79F5C7E6C]\n\t(No symbol) [0x00007FF79F5B79A4]\n\tBaseThreadInitThunk [0x00007FFF67C9257D+29]\n\tRtlUserThreadStart [0x00007FFF6980AA58+40]\n"
     ]
    }
   ],
   "source": [
    "for product_url in product_url_list:\n",
    "    driver.get(product_url)\n",
    "    driver.set_window_size(1920,1080)\n",
    "    driver.maximize_window()\n",
    "        \n",
    "        \n",
    "    ##최신 순으로 댓글 정렬    \n",
    "    html_url = driver.page_source\n",
    "    soup_url = BeautifulSoup(html_url,\"html.parser\")\n",
    "    time.sleep(2)\n",
    "    WebDriverWait(driver, 20).until(EC.element_to_be_clickable((By.ID, \"reviewSelectSort\"))).click()\n",
    "    WebDriverWait(driver, 10).until(\n",
    "        EC.element_to_be_clickable((By.XPATH, '//option[@value=\"new\"]'))\n",
    "    ).click()\n",
    "    \n",
    "    \n",
    "    html_product = driver.page_source\n",
    "    soup_product = BeautifulSoup(html_product,\"html.parser\")\n",
    "    time.sleep(1)\n",
    "    #상품 이름\n",
    "    prod_name = soup_product.find(\"h3\",attrs={\"class\":\"product-detail__sc-1klhlce-3\"}).get_text()\n",
    "    prod_name\n",
    "    a = True\n",
    "    i=0\n",
    "    date_list=[]\n",
    "    rating_list=[]\n",
    "    reviewer_id_list = []\n",
    "    tag_list = []\n",
    "\n",
    "    while a:\n",
    "        \n",
    "        i+=1\n",
    "        if( i % 5 == 0):\n",
    "            WebDriverWait(driver, 5).until(EC.element_to_be_clickable((By.CSS_SELECTOR, \".fa.fa-angle-right.paging-btn.btn.next\"))).click()\n",
    "            time.sleep(2)\n",
    "            \n",
    "        else:\n",
    "            try:\n",
    "                WebDriverWait(driver, 15).until(\n",
    "                EC.element_to_be_clickable((By.XPATH, f'//a[text()={i}]'))).click()\n",
    "                time.sleep(2)\n",
    "            except:\n",
    "                pass\n",
    "        \n",
    "        \n",
    "        html_product = driver.page_source\n",
    "        soup_product = BeautifulSoup(html_product,\"html.parser\")\n",
    "        \n",
    "        #작성일 가져오기\n",
    "        #break문을 사용해서 확실히 끊어야 한다.\n",
    "        \n",
    "        dates = list(soup_product.find_all(\"p\", attrs={\"class\":\"review-profile__date\"}))\n",
    "\n",
    "        \n",
    "        for date in dates:\n",
    "            date = date.get_text()\n",
    "            if '.' in date:\n",
    "                a = False\n",
    "                break\n",
    "            date_list.append(date)\n",
    "        \n",
    "        \n",
    "        \n",
    "        ### 별점 가져오기\n",
    "        # 5개는 100, 4개는 80, 3개는 60, 2개는 40, 1개는 20\n",
    "        stars = soup_product.find_all(\"span\", attrs={\"class\":\"review-list__rating__active\"})\n",
    "\n",
    "        for star in stars:\n",
    "            rating_list.append(re.sub(r'\\D', '', star['style']))    \n",
    "                \n",
    "\n",
    "        \n",
    "        ### 작성자 가져오기\n",
    "        \n",
    "        \n",
    "        reviewers= soup_product.find_all(\"p\",attrs={\"class\" : \"review-profile__name\"})\n",
    "        \n",
    "        for reviewer in reviewers:\n",
    "            reviewer_id_list.append(reviewer.get_text())\n",
    "            \n",
    "            \n",
    "            \n",
    "        ##  소비자 해시태그 가져오기\n",
    "        \n",
    "        tags = soup_product.find_all(\"li\",attrs={\"class\" : \"review-evaluation--type3__item\"})\n",
    "        my_dict={}\n",
    "        for tag in tags:\n",
    "            \n",
    "            my_dict={\n",
    "                tag.get_text().split(\" \")[0]:tag.get_text().split(\" \")[1]\n",
    "                \n",
    "            }\n",
    "            # 기간 내에 있는 모든 테그들을 담은 리스트\n",
    "            tag_list.append(my_dict)    \n",
    "    \n",
    "    \n"
   ]
  },
  {
   "cell_type": "code",
   "execution_count": 38,
   "metadata": {},
   "outputs": [],
   "source": [
    "\n",
    "\n"
   ]
  },
  {
   "cell_type": "code",
   "execution_count": 11,
   "metadata": {},
   "outputs": [
    {
     "name": "stdout",
     "output_type": "stream",
     "text": [
      "작성자 :  90\n",
      "별점 :  90\n",
      "작성일 :  90\n"
     ]
    }
   ],
   "source": [
    "reviewer_id_list = reviewer_id_list[:len(date_list)]\n",
    "rating_list = rating_list[:len(date_list)]\n",
    "\n",
    "print(\"작성자 : \",len(reviewer_id_list))\n",
    "print(\"별점 : \",len(rating_list))\n",
    "print(\"작성일 : \",len(date_list))"
   ]
  },
  {
   "cell_type": "code",
   "execution_count": 12,
   "metadata": {},
   "outputs": [
    {
     "name": "stderr",
     "output_type": "stream",
     "text": [
      "C:\\Users\\wmk51\\AppData\\Local\\Temp\\ipykernel_3096\\2151744951.py:1: DeprecationWarning: \n",
      "Pyarrow will become a required dependency of pandas in the next major release of pandas (pandas 3.0),\n",
      "(to allow more performant data types, such as the Arrow string type, and better interoperability with other libraries)\n",
      "but was not found to be installed on your system.\n",
      "If this would cause problems for you,\n",
      "please provide us feedback at https://github.com/pandas-dev/pandas/issues/54466\n",
      "        \n",
      "  import pandas as pd\n"
     ]
    }
   ],
   "source": [
    "import pandas as pd\n",
    "import numpy as np\n",
    "import matplotlib.pyplot as plt"
   ]
  },
  {
   "cell_type": "code",
   "execution_count": 13,
   "metadata": {},
   "outputs": [],
   "source": [
    "data_dict = {\n",
    "\n",
    "    \"review_id\" : reviewer_id_list,\n",
    "    \"rating\" : rating_list,\n",
    "    \"review_date\" : date_list\n",
    "}"
   ]
  },
  {
   "cell_type": "code",
   "execution_count": 14,
   "metadata": {},
   "outputs": [
    {
     "data": {
      "text/html": [
       "<div>\n",
       "<style scoped>\n",
       "    .dataframe tbody tr th:only-of-type {\n",
       "        vertical-align: middle;\n",
       "    }\n",
       "\n",
       "    .dataframe tbody tr th {\n",
       "        vertical-align: top;\n",
       "    }\n",
       "\n",
       "    .dataframe thead th {\n",
       "        text-align: right;\n",
       "    }\n",
       "</style>\n",
       "<table border=\"1\" class=\"dataframe\">\n",
       "  <thead>\n",
       "    <tr style=\"text-align: right;\">\n",
       "      <th></th>\n",
       "      <th>review_id</th>\n",
       "      <th>rating</th>\n",
       "      <th>review_date</th>\n",
       "    </tr>\n",
       "  </thead>\n",
       "  <tbody>\n",
       "    <tr>\n",
       "      <th>0</th>\n",
       "      <td>LV.4 김토성</td>\n",
       "      <td>100</td>\n",
       "      <td>11시간 전</td>\n",
       "    </tr>\n",
       "    <tr>\n",
       "      <th>1</th>\n",
       "      <td>LV.5 아젤리아크림</td>\n",
       "      <td>100</td>\n",
       "      <td>22시간 전</td>\n",
       "    </tr>\n",
       "    <tr>\n",
       "      <th>2</th>\n",
       "      <td>LV.3 뉴비_2e262e2cccb7</td>\n",
       "      <td>100</td>\n",
       "      <td>1일 전</td>\n",
       "    </tr>\n",
       "    <tr>\n",
       "      <th>3</th>\n",
       "      <td>LV.5 뉴비_1f72d41a</td>\n",
       "      <td>100</td>\n",
       "      <td>1일 전</td>\n",
       "    </tr>\n",
       "    <tr>\n",
       "      <th>4</th>\n",
       "      <td>LV.6 김레온씨</td>\n",
       "      <td>100</td>\n",
       "      <td>1일 전</td>\n",
       "    </tr>\n",
       "    <tr>\n",
       "      <th>...</th>\n",
       "      <td>...</td>\n",
       "      <td>...</td>\n",
       "      <td>...</td>\n",
       "    </tr>\n",
       "    <tr>\n",
       "      <th>85</th>\n",
       "      <td>LV.6 실버_b568346580b9</td>\n",
       "      <td>100</td>\n",
       "      <td>27일 전</td>\n",
       "    </tr>\n",
       "    <tr>\n",
       "      <th>86</th>\n",
       "      <td>LV.5 Odleff</td>\n",
       "      <td>100</td>\n",
       "      <td>27일 전</td>\n",
       "    </tr>\n",
       "    <tr>\n",
       "      <th>87</th>\n",
       "      <td>LV.5 Odleff</td>\n",
       "      <td>100</td>\n",
       "      <td>27일 전</td>\n",
       "    </tr>\n",
       "    <tr>\n",
       "      <th>88</th>\n",
       "      <td>LV.3 로스차일드박</td>\n",
       "      <td>100</td>\n",
       "      <td>28일 전</td>\n",
       "    </tr>\n",
       "    <tr>\n",
       "      <th>89</th>\n",
       "      <td>LV.3 로스차일드박</td>\n",
       "      <td>100</td>\n",
       "      <td>28일 전</td>\n",
       "    </tr>\n",
       "  </tbody>\n",
       "</table>\n",
       "<p>90 rows × 3 columns</p>\n",
       "</div>"
      ],
      "text/plain": [
       "               review_id rating review_date\n",
       "0               LV.4 김토성    100      11시간 전\n",
       "1            LV.5 아젤리아크림    100      22시간 전\n",
       "2   LV.3 뉴비_2e262e2cccb7    100        1일 전\n",
       "3       LV.5 뉴비_1f72d41a    100        1일 전\n",
       "4              LV.6 김레온씨    100        1일 전\n",
       "..                   ...    ...         ...\n",
       "85  LV.6 실버_b568346580b9    100       27일 전\n",
       "86           LV.5 Odleff    100       27일 전\n",
       "87           LV.5 Odleff    100       27일 전\n",
       "88           LV.3 로스차일드박    100       28일 전\n",
       "89           LV.3 로스차일드박    100       28일 전\n",
       "\n",
       "[90 rows x 3 columns]"
      ]
     },
     "execution_count": 14,
     "metadata": {},
     "output_type": "execute_result"
    }
   ],
   "source": [
    "product_df = pd.DataFrame(data_dict)\n",
    "product_df"
   ]
  },
  {
   "cell_type": "code",
   "execution_count": null,
   "metadata": {},
   "outputs": [],
   "source": [
    "####여기서 부터는 태그 데이터  피처링"
   ]
  },
  {
   "cell_type": "code",
   "execution_count": null,
   "metadata": {},
   "outputs": [],
   "source": [
    "tag_list"
   ]
  },
  {
   "cell_type": "code",
   "execution_count": null,
   "metadata": {},
   "outputs": [],
   "source": [
    "data_dict = {\n",
    "    '사이즈': ['보통이에요', '커요', '보통이에요', '보통이에요', '보통이에요'],\n",
    "    '밝기': ['보통이에요', '보통이에요', '보통이에요', '밝아요'],\n",
    "    '색감': ['선명해요', '선명해요', '보통이에요', '선명해요'],\n",
    "    '두께감': ['보통이에요', '얇아요', '보통이에요', '보통이에요'],\n",
    "    '촉감': ['부드러워요', '부드러워요', '평범해요'],\n",
    "    '배송': ['빨라요', '빨라요', '빨라요'],\n",
    "    '포장': ['꼼꼼해요', '꼼꼼해요', '꼼꼼해요']\n",
    "}\n"
   ]
  },
  {
   "cell_type": "code",
   "execution_count": 27,
   "metadata": {},
   "outputs": [
    {
     "name": "stdout",
     "output_type": "stream",
     "text": [
      "defaultdict(<function <lambda> at 0x0000023DD4495760>, {'사이즈': defaultdict(<class 'int'>, {'보통이에요': 95, '커요': 4, '작아요': 1}), '밝기': defaultdict(<class 'int'>, {'보통이에요': 80, '밝아요': 17, '어두워요': 3}), '색감': defaultdict(<class 'int'>, {'선명해요': 31, '보통이에요': 69}), '두께감': defaultdict(<class 'int'>, {'보통이에요': 87, '얇아요': 11, '두꺼워요': 2}), '촉감': defaultdict(<class 'int'>, {'부드러워요': 43, '평범해요': 57}), '배송': defaultdict(<class 'int'>, {'빨라요': 98, '아쉬워요': 2}), '포장': defaultdict(<class 'int'>, {'꼼꼼해요': 99, '아쉬워요': 1})})\n",
      "사이즈: 보통이에요 - 95번\n",
      "밝기: 보통이에요 - 80번\n",
      "색감: 보통이에요 - 69번\n",
      "두께감: 보통이에요 - 87번\n",
      "촉감: 평범해요 - 57번\n",
      "배송: 빨라요 - 98번\n",
      "포장: 꼼꼼해요 - 99번\n"
     ]
    }
   ],
   "source": [
    "from collections import defaultdict\n",
    "\n",
    "# 빈도수를 저장할 딕셔너리\n",
    "frequency = defaultdict(lambda: defaultdict(int))\n",
    "\n",
    "data = [{'사이즈': '보통이에요'}, {'밝기': '보통이에요'}, {'색감': '선명해요'}, {'두께감': '보통이에요'}, {'촉감': '부드러워요'}, {'배송': '빨라요'}, {'포장': '꼼꼼해요'}, {'사이즈': '보통이에요'}, {'밝기': '보통이에요'}, {'색감': '선명해요'}, {'두께감': '보통이에요'}, {'촉감': '부드러워요'}, {'배송': '빨라요'}, {'포장': '꼼꼼해요'}, {'사이즈': '커요'}, {'밝기': '보통이에요'}, {'색감': '선명해요'}, {'두께감': '얇아요'}, {'촉감': '부드러워요'}, {'배송': '빨라요'}, {'포장': '꼼꼼해요'}, {'사이즈': '보통이에요'}, {'밝기': '보통이에요'}, {'색감': '보통이에요'}, {'두께감': '보통이에요'}]\n",
    "\n",
    "# 각 키별로 값을 세기\n",
    "for dictionary in tag_list:\n",
    "    for key, value in dictionary.items():\n",
    "        # print(key,value)\n",
    "        # ex key가 사이즈면 해당 value값의 빈도가 올라감\n",
    "        frequency[key][value] += 1\n",
    "print(frequency)\n",
    "key_list=[]\n",
    "# 각 키별로 빈도가 가장 높은 값을 출력\n",
    "for key, values in frequency.items():\n",
    "    # print(\"key :\" ,key,\"value : \",value)\n",
    "    max_value = max(values, key=values.get)\n",
    "    #key = 사이즈 : 봉통이에요 - value[\"보통이에요\"]\n",
    "    print(f\"{key}: {max_value} - {values[max_value]}번\")\n",
    "        "
   ]
  },
  {
   "cell_type": "code",
   "execution_count": null,
   "metadata": {},
   "outputs": [],
   "source": []
  }
 ],
 "metadata": {
  "kernelspec": {
   "display_name": "Python 3",
   "language": "python",
   "name": "python3"
  },
  "language_info": {
   "codemirror_mode": {
    "name": "ipython",
    "version": 3
   },
   "file_extension": ".py",
   "mimetype": "text/x-python",
   "name": "python",
   "nbconvert_exporter": "python",
   "pygments_lexer": "ipython3",
   "version": "3.11.8"
  }
 },
 "nbformat": 4,
 "nbformat_minor": 2
}
